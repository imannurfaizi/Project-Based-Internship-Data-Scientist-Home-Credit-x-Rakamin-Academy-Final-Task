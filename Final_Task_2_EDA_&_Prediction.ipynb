{
  "nbformat": 4,
  "nbformat_minor": 0,
  "metadata": {
    "colab": {
      "provenance": [],
      "authorship_tag": "ABX9TyP1QeBxsp8V2QoOWxE/NO8v"
    },
    "kernelspec": {
      "name": "python3",
      "display_name": "Python 3"
    },
    "language_info": {
      "name": "python"
    }
  },
  "cells": [
    {
      "cell_type": "markdown",
      "source": [
        "# **Exploratory Data Analysis** 🔎📈"
      ],
      "metadata": {
        "id": "GkNqUYIrtyiQ"
      }
    },
    {
      "cell_type": "markdown",
      "source": [
        "## **Mounting Google Drive**"
      ],
      "metadata": {
        "id": "qb7AKL06uIFl"
      }
    },
    {
      "cell_type": "code",
      "source": [],
      "metadata": {
        "id": "OfPhuPsjuMdC"
      },
      "execution_count": null,
      "outputs": []
    },
    {
      "cell_type": "markdown",
      "source": [
        "## **Import Library**"
      ],
      "metadata": {
        "id": "n8ybVE7it9Gr"
      }
    },
    {
      "cell_type": "code",
      "source": [],
      "metadata": {
        "id": "S7Fjk4iwt8wi"
      },
      "execution_count": null,
      "outputs": []
    },
    {
      "cell_type": "markdown",
      "source": [
        "## **Import Data**"
      ],
      "metadata": {
        "id": "w5yaZUI1uA7i"
      }
    },
    {
      "cell_type": "code",
      "execution_count": null,
      "metadata": {
        "id": "wMxWn1ADtc6t"
      },
      "outputs": [],
      "source": []
    }
  ]
}